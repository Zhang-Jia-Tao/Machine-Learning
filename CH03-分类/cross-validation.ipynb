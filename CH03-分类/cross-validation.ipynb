{
 "cells": [
  {
   "cell_type": "code",
   "execution_count": null,
   "id": "initial_id",
   "metadata": {
    "collapsed": true
   },
   "outputs": [],
   "source": [
    "from sklearn.model_selection import StratifiedKFold\n",
    "from sklearn.base import clone\n",
    "\n",
    "# 创建一个StratifiedKFold对象，用3折交叉验证（n_splits=3）\n",
    "skfolds = StratifiedKFold(n_splits=3) # 如果数据集未打乱，可以加入 shuffle=True\n"
   ]
  },
  {
   "metadata": {},
   "cell_type": "markdown",
   "source": [
    "StratifiedKFold：分层交叉验证类，用于确保每个折叠中每个类别的样本比例与原始数据集相同。 \n",
    "\n",
    "n_splits=3：将数据集分成3折，表示3次训练和验证的过程。\n",
    "\n",
    "shuffle=True：如果数据集未事先打乱，可以添加该参数来随机打乱数据。"
   ],
   "id": "6a90e21da7a36563"
  },
  {
   "metadata": {},
   "cell_type": "code",
   "outputs": [],
   "execution_count": null,
   "source": [
    "for train_index, test_index in skfolds.split(X_train, y_train_5):\n",
    "    clone_clf = clone(sgd_clf)\n",
    "    \n",
    "    X_train_folds = X_train[train_index]\n",
    "    y_train_folds = y_train_5[train_index]\n",
    "    X_test_fold = X_train[test_index]\n",
    "    y_test_fold = y_train_5[test_index]\n",
    "    \n",
    "    clone_clf.fit(X_train_folds, y_train_folds)\n",
    "    \n",
    "    y_pred = clone_clf.predict(X_test_fold)\n",
    "\n",
    "    n_correct = sum(y_pred == y_test_fold)\n",
    "\n",
    "    print(n_correct / len(y_pred))\n",
    "\n"
   ],
   "id": "35f581ec6a36c87a"
  },
  {
   "metadata": {},
   "cell_type": "markdown",
   "source": [
    "skfolds.split(X_train, y_train_5)：将数据划分为训练和测试索引。\n",
    "\n",
    "X_train 是训练数据，y_train_5 是标签（目标是判断是否为5），每次循环会输出一对训练和测试的索引。\n",
    "\n",
    "lone(sgd_clf)：使用 clone 创建分类器的副本 clone_clf。clone 可防止在每次迭代中使用相同的模型，从而避免模型间的干扰。\n",
    "\n",
    "X_train_folds 和 y_train_folds：通过 train_index 索引，创建当前折叠的训练数据。\n",
    "\n",
    "X_test_fold 和 y_test_fold：通过 test_index 索引，创建当前折叠的测试数据。\n",
    "\n",
    "fit 方法：在当前折叠的训练数据上训练分类器。\n",
    "\n",
    "predict 方法：对当前折叠的测试数据进行预测。\n",
    "\n",
    "n_correct：统计预测正确的数量，即 y_pred 与 y_test_fold 中相等的元素数目。\n"
   ],
   "id": "2d552670a2726732"
  }
 ],
 "metadata": {
  "kernelspec": {
   "display_name": "Python 3",
   "language": "python",
   "name": "python3"
  },
  "language_info": {
   "codemirror_mode": {
    "name": "ipython",
    "version": 2
   },
   "file_extension": ".py",
   "mimetype": "text/x-python",
   "name": "python",
   "nbconvert_exporter": "python",
   "pygments_lexer": "ipython2",
   "version": "2.7.6"
  }
 },
 "nbformat": 4,
 "nbformat_minor": 5
}
