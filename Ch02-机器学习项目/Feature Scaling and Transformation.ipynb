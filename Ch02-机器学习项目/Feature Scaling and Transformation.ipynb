{
 "cells": [
  {
   "metadata": {},
   "cell_type": "markdown",
   "source": [
    "### Feature Scaling and Transformation\n",
    "\n",
    "特征缩放和转换是数据预处理中非常重要的步骤。它们帮助不同特征在相似的数值范围内，以便机器学习模型更有效地训练。以下是主要的特征缩放和转换方法：\n",
    "\n",
    "1. 特征缩放（Feature Scaling）\n",
    "特征缩放确保不同特征的数值范围相似，避免某些特征因范围过大而主导模型。常用的缩放方法有：\n",
    "\n",
    "标准化（Standardization）：将特征的值缩放到均值为 0、标准差为 1 的分布中。常用方法是减去均值并除以标准差。Scikit-Learn 提供了 StandardScaler 用于标准化。"
   ],
   "id": "456256793e67cbc3"
  },
  {
   "metadata": {},
   "cell_type": "code",
   "outputs": [],
   "execution_count": null,
   "source": [
    "from sklearn.preprocessing import StandardScaler\n",
    "scaler = StandardScaler()\n",
    "X_scaled = scaler.fit_transform(X)\n"
   ],
   "id": "c097b64f9d997b35"
  },
  {
   "metadata": {},
   "cell_type": "markdown",
   "source": "归一化（Normalization）：将特征值缩放到固定范围（通常为 [0, 1]）。常用方法是将最小值映射为 0，最大值映射为 1。Scikit-Learn 提供了 MinMaxScaler（最小-最大缩放） 用于归一化。",
   "id": "43496393d9f78e6a"
  },
  {
   "metadata": {},
   "cell_type": "code",
   "outputs": [],
   "execution_count": null,
   "source": [
    "from sklearn.preprocessing import MinMaxScaler\n",
    "scaler = MinMaxScaler()\n",
    "X_normalized = scaler.fit_transform(X)\n"
   ],
   "id": "b76c670aabbe3e4f"
  },
  {
   "metadata": {},
   "cell_type": "markdown",
   "source": [
    "2. 特征转换（Feature Transformation）\n",
    "特征转换是将原始特征进行数学变换，以改进模型的表现。常见的转换方法有：\n",
    "\n",
    "对数变换（Log Transformation）：对数变换适用于右偏分布的数据，将数据压缩到较小范围内。"
   ],
   "id": "767531ec88847a3e"
  },
  {
   "metadata": {},
   "cell_type": "code",
   "outputs": [],
   "execution_count": null,
   "source": [
    "import numpy as np\n",
    "X_log_transformed = np.log1p(X)  # log1p 是 log(1 + X)\n"
   ],
   "id": "46998d688ce9f684"
  },
  {
   "metadata": {},
   "cell_type": "markdown",
   "source": "平方根变换（Square Root Transformation）：适用于轻微偏态分布的数据，使数据更接近正态分布。\n",
   "id": "17ed681a6c612b30"
  },
  {
   "metadata": {},
   "cell_type": "code",
   "outputs": [],
   "execution_count": null,
   "source": "X_sqrt_transformed = np.sqrt(X)\n",
   "id": "285b533ffce3fc2e"
  },
  {
   "metadata": {},
   "cell_type": "markdown",
   "source": "Box-Cox 变换：一种可以将数据变成接近正态分布的非线性变换。适合正态性假设严格的模型。",
   "id": "daa27f636f8d73d0"
  },
  {
   "metadata": {},
   "cell_type": "code",
   "outputs": [],
   "execution_count": null,
   "source": [
    "from scipy.stats import boxcox\n",
    "X_boxcox_transformed, _ = boxcox(X + 1)  # 需确保数据为正值\n"
   ],
   "id": "58ef7636d6e3f124"
  },
  {
   "metadata": {},
   "cell_type": "markdown",
   "source": [
    "选择合适的缩放和转换\n",
    "特征缩放和转换的选择取决于数据的特性和所用模型。例如，线性回归、SVM 和神经网络等模型对特征缩放较敏感，而决策树和随机森林等基于树的模型则不受特征缩放影\n",
    "\n",
    "和所有估计器一样，重要的是仅将缩放器（scaler）拟合到训练数据上：切勿对除训练集以外的数据使用 fit() 或 fit_transform()。一旦缩放器训练完成，可以使用它的 transform() 方法对其他数据集（如验证集、测试集或新数据）进行转换。需要注意的是，虽然训练集的值总会被缩放到指定范围，但如果新数据中包含异常值，这些值可能会被缩放到该范围之外。若想避免这种情况，只需将 clip 超参数设置为 True。响"
   ],
   "id": "f7bbefc2c291979a"
  }
 ],
 "metadata": {
  "kernelspec": {
   "display_name": "Python 3",
   "language": "python",
   "name": "python3"
  },
  "language_info": {
   "codemirror_mode": {
    "name": "ipython",
    "version": 2
   },
   "file_extension": ".py",
   "mimetype": "text/x-python",
   "name": "python",
   "nbconvert_exporter": "python",
   "pygments_lexer": "ipython2",
   "version": "2.7.6"
  }
 },
 "nbformat": 4,
 "nbformat_minor": 5
}
