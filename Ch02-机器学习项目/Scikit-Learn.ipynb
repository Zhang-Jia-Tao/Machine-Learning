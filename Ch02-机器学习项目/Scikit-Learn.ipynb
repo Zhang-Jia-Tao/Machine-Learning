{
 "cells": [
  {
   "metadata": {},
   "cell_type": "markdown",
   "source": [
    "### Scikit-Learn\n",
    "\n",
    "Scikit-Learn 是一个基于 Python 的开源机器学习库，提供了丰富的机器学习工具和算法，用于数据挖掘和数据分析，特别适合用于构建和评估机器学习模型。它是构建在 NumPy、SciPy 和 matplotlib 之上的，能够与它们无缝集成，从而方便进行数据处理、模型训练和评估。\n",
    "\n",
    "Scikit-Learn 的核心功能\n",
    "- 数据预处理：提供各种工具来处理缺失值、标准化、归一化、编码分类变量等。\n",
    "- 模型选择和评估：包括交叉验证、网格搜索等方法来优化超参数和评估模型性能。\n",
    "- 多种机器学习算法：包括分类（如逻辑回归、决策树）、回归（如线性回归、岭回归）、聚类（如 K-means）和降维（如 PCA）算法。\n",
    "- 管道（Pipeline）：通过将数据预处理步骤和模型连接起来，可以简化工作流，使得模型训练和预测过程更高效。\n",
    "\n",
    "Scikit-Learn 的特点\n",
    "- 一致性：所有模型都有统一的 API，常用方法如 fit()、predict()、transform() 等，这使得算法的调用和操作方式一致。\n",
    "- 可复用性：数据预处理和模型构建函数可以复用，并适用于新数据。\n",
    "- 丰富的文档和社区支持：Scikit-Learn 拥有丰富的官方文档，并有庞大的用户社区，方便学习和解决问题。\n",
    "- \n",
    "总之，Scikit-Learn 是一个功能强大、易用的机器学习工具库，适合从入门到实际应用的各种机器学习任务。"
   ],
   "id": "649a12304a96d493"
  },
  {
   "metadata": {},
   "cell_type": "markdown",
   "source": [
    "Any object that can estimate some parameters based on a dataset is called an estimator\n",
    "\n",
    "#### 一致性\n",
    "\n",
    "所有对象都遵循一致且简洁的接口：\n",
    "\n",
    "1. 估计器（Estimators）\n",
    "任何可以基于数据集估计参数的对象都称为估计器（例如，SimpleImputer 是一个估计器）。估计通过 fit() 方法完成，该方法接收一个数据集作为参数，或者在监督学习算法中接收两个数据集（第一个是特征，第二个是标签）。任何指导估计过程所需的其他参数都被视为超参数（例如，SimpleImputer 的策略），并且必须作为实例变量设置（通常通过构造函数参数）。\n",
    "\n",
    "2. 转换器（Transformers）\n",
    "一些估计器（例如 SimpleImputer）还可以转换数据集，这些被称为转换器。同样，API 非常简单：转换通过 transform() 方法完成，带有要转换的数据集作为参数，并返回转换后的数据集。此转换通常依赖于学习到的参数，例如 SimpleImputer 的情况。所有转换器还有一个方便的方法 fit_transform()，等价于依次调用 fit() 和 transform()（但有时 fit_transform() 被优化，运行更快）。\n",
    "\n",
    "3. 预测器（Predictors）\n",
    "最终，有些估计器可以在给定数据集的情况下做出预测，这些称为预测器。例如，上一章的 LinearRegression 模型就是一个预测器：它根据一个国家的人均 GDP 来预测生活满意度。预测器有一个 predict() 方法，接收新的实例数据集并返回相应的预测结果数据集。此外，还有一个 score() 方法，用于在给定测试集（和相应标签，在监督学习算法的情况下）时测量预测质量。\n",
    "\n",
    "Scikit-Learn 的设计还遵循以下原则：\n",
    "\n",
    "- 检查\n",
    "所有估计器的超参数可以通过公共实例变量直接访问（例如，imputer.strategy），而所有学习到的参数可以通过带下划线后缀的公共实例变量访问（例如，imputer.statistics_）。\n",
    "\n",
    "- 类的不泛滥\n",
    "数据集以 NumPy 数组或 SciPy 稀疏矩阵表示，而不是自定义类。超参数则是常规的 Python 字符串或数值。\n",
    "\n",
    "- 组合\n",
    "尽可能重用现有的构建模块。例如，可以轻松地从一系列转换器和一个最终估计器创建一个 Pipeline 估计器，稍后你将看到详细例子。\n",
    "\n",
    "- 合理的默认值\n",
    "Scikit-Learn 为大多数参数提供了合理的默认值，使得快速创建一个初步可用的系统变得容易。"
   ],
   "id": "18a5a77aac1292bb"
  },
  {
   "metadata": {},
   "cell_type": "markdown",
   "source": [
    "### 在Scikit-Learn中，估计器、转换器、预测器是三种核心对象类型，每种类型在机器学习的不同阶段起着特定的作用，它们的功能如下\n",
    "\n",
    "> 估计器（Estimator）\n",
    "> \n",
    "估计器是任何可以基于数据估计参数的对象。在 Scikit-Learn 中，所有算法（如分类、回归、聚类）都被设计为估计器。估计器的核心功能是拟合数据，即通过 fit() 方法来调整模型参数，以适应训练数据。\n",
    "\n",
    "主要功能：学习数据中的模式并调整模型参数。\n",
    "\n",
    "核心方法：fit()，使用训练数据来训练模型。\n",
    "\n",
    "例子：SimpleImputer 是一个估计器，可以基于数据估计出填补缺失值的策略；LinearRegression 是一个估计器，用于线性回归建模。\n"
   ],
   "id": "dc3acd0b97f6a296"
  },
  {
   "metadata": {},
   "cell_type": "code",
   "outputs": [],
   "execution_count": null,
   "source": [
    "from sklearn.linear_model import LinearRegression\n",
    "\n",
    "# 创建一个线性回归估计器\n",
    "lin_reg = LinearRegression()\n",
    "# 使用fit方法在训练数据上训练模型\n",
    "lin_reg.fit(X_train, y_train)\n"
   ],
   "id": "881c6035757cc364"
  },
  {
   "metadata": {},
   "cell_type": "markdown",
   "source": [
    "> 转换器（Transformer）\n",
    "> \n",
    "转换器是一种特殊的估计器，它可以在训练数据上拟合后，将数据进行转换（即数据预处理）。典型的转换器用于数据清洗和特征工程。例如，标准化数据、缺失值填充、编码分类变量等都属于数据转换。\n",
    "\n",
    "主要功能：对数据进行转换以提高模型的训练效果。\n",
    "\n",
    "核心方法：\n",
    "\n",
    "fit_transform()：先拟合数据再进行转换。\n",
    "\n",
    "transform()：对数据进行转换。\n",
    "\n",
    "例子：StandardScaler 是一个转换器，它在拟合数据时会计算均值和标准差，并在 transform() 时标准化数据；SimpleImputer 是一个转换器，可以用指定策略填充缺失值。"
   ],
   "id": "2a3a35ef04a52aa7"
  },
  {
   "metadata": {},
   "cell_type": "code",
   "outputs": [],
   "execution_count": null,
   "source": [
    "from sklearn.preprocessing import StandardScaler\n",
    "\n",
    "# 创建一个标准化转换器\n",
    "scaler = StandardScaler()\n",
    "# 使用fit_transform方法在训练数据上标准化数据\n",
    "X_train_scaled = scaler.fit_transform(X_train)\n"
   ],
   "id": "465cd0f145eafc2f"
  },
  {
   "metadata": {},
   "cell_type": "markdown",
   "source": [
    "> 预测器(Predictor)\n",
    "> \n",
    "预测器是一种估计器，它能够在训练后做出预测。预测器一般用于监督学习任务中（如分类或回归），它们可以在新数据上预测输出。预测器具有 predict() 方法，用于生成预测结果。\n",
    "\n",
    "主要功能：根据训练数据进行预测。\n",
    "\n",
    "核心方法：\n",
    "\n",
    "predict()：在新数据上生成预测结果。\n",
    "\n",
    "score()：评估预测结果的准确性。\n",
    "\n",
    "例子：LinearRegression 是一个预测器，可以在训练后使用 predict() 方法预测新的数据；KNeighborsClassifier 是一个预测器，可以在分类任务中预测新样本的类别。"
   ],
   "id": "26c5fed91b40cf0e"
  },
  {
   "metadata": {},
   "cell_type": "code",
   "outputs": [],
   "execution_count": null,
   "source": [
    "# 使用训练好的模型在测试数据上进行预测\n",
    "y_pred = lin_reg.predict(X_test)\n",
    "# 使用score方法评估模型表现\n",
    "score = lin_reg.score(X_test, y_test)\n"
   ],
   "id": "583028c51381b8e3"
  },
  {
   "metadata": {},
   "cell_type": "markdown",
   "source": [
    "Scikit-Learn 的 API 设计十分简洁，每种对象都具有清晰的职责：\n",
    "\n",
    "- 估计器负责学习数据中的模式；\n",
    "- 转换器负责数据的预处理和特征变换；\n",
    "- 预测器则在训练后对新数据生成预测。"
   ],
   "id": "db50a2675dd1ca50"
  },
  {
   "metadata": {},
   "cell_type": "markdown",
   "source": [
    "实际上，在训练机器学习模型的完整流程中，通常先使用转换器对数据进行预处理，再使用估计器来拟合数据，并使用预测器生成预测。不过，需要注意的是，转换器和估计器的组合有时可以集成到一个估计器或 Pipeline 中。以下是详细的流程解释：\n",
    "\n",
    "完整的机器学习训练流程\n",
    "\n",
    "数据预处理（使用转换器）：\n",
    "\n",
    "首先对数据进行清理和标准化。这一步通常使用转换器来处理，例如填补缺失值、标准化、特征缩放、编码分类变量等。\n",
    "例如，可以使用 SimpleImputer 填补缺失值，用 StandardScaler 标准化数据。\n",
    "这些转换器通过 fit_transform() 方法在训练集上拟合并转换数据，并通过 transform() 方法将同样的预处理应用于测试集。\n",
    "\n",
    "模型训练（使用估计器）：\n",
    "\n",
    "在完成数据预处理后，使用估计器在训练数据上拟合模型，找到数据中的模式。\n",
    "估计器在监督学习任务（如分类和回归）和无监督学习任务（如聚类）中训练模型，帮助模型识别数据结构。\n",
    "例如，LinearRegression 是一个估计器，它在拟合过程中调整参数来找到最佳线性回归方程。\n",
    "\n",
    "生成预测（使用预测器）：\n",
    "\n",
    "训练完成后，可以将测试数据输入预测器，通过 predict() 方法生成预测结果。\n",
    "预测器在训练数据上获得模式后，能够在新数据上预测结果，例如回归任务中的目标变量或分类任务中的类别。\n",
    "许多估计器同时也是预测器，例如 LinearRegression 和 RandomForestClassifier，它们既能拟合数据又能生成预测。\n",
    "\n",
    "模型评估：\n",
    "\n",
    "使用 score() 方法或其他评估指标来测量模型在测试集上的表现，从而确定模型的准确性、精度、召回率等。"
   ],
   "id": "8e6b409dbb2ab20c"
  },
  {
   "metadata": {},
   "cell_type": "code",
   "outputs": [],
   "execution_count": null,
   "source": [
    "#以一个完整的流水线为例，我们可以在整个流程中使用 Pipeline 连接转换器和预测器，以便自动化预处理和预测：\n",
    "from sklearn.pipeline import Pipeline\n",
    "from sklearn.preprocessing import StandardScaler\n",
    "from sklearn.impute import SimpleImputer\n",
    "from sklearn.linear_model import LinearRegression\n",
    "from sklearn.model_selection import train_test_split\n",
    "\n",
    "# 准备数据集\n",
    "X_train, X_test, y_train, y_test = train_test_split(data, target, test_size=0.2)\n",
    "\n",
    "# 创建流水线，将转换器和估计器/预测器连接起来\n",
    "pipeline = Pipeline([\n",
    "    ('imputer', SimpleImputer(strategy='median')),     # 填补缺失值\n",
    "    ('scaler', StandardScaler()),                      # 标准化\n",
    "    ('regressor', LinearRegression())                  # 使用线性回归模型\n",
    "])\n",
    "\n",
    "# 在训练集上拟合流水线\n",
    "pipeline.fit(X_train, y_train)\n",
    "\n",
    "# 在测试集上生成预测\n",
    "y_pred = pipeline.predict(X_test)\n",
    "\n",
    "# 评估模型表现\n",
    "score = pipeline.score(X_test, y_test)\n",
    "print(\"模型评分:\", score)\n"
   ],
   "id": "cf2c58e9f41ef97e"
  }
 ],
 "metadata": {
  "kernelspec": {
   "display_name": "Python 3",
   "language": "python",
   "name": "python3"
  },
  "language_info": {
   "codemirror_mode": {
    "name": "ipython",
    "version": 2
   },
   "file_extension": ".py",
   "mimetype": "text/x-python",
   "name": "python",
   "nbconvert_exporter": "python",
   "pygments_lexer": "ipython2",
   "version": "2.7.6"
  }
 },
 "nbformat": 4,
 "nbformat_minor": 5
}
