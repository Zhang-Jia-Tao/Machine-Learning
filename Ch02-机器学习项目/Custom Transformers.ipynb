{
 "cells": [
  {
   "metadata": {},
   "cell_type": "markdown",
   "source": [
    "### Custom Transformers\n",
    "\n",
    "FunctionTransformer 是 Scikit-Learn 中的一个类，专门用于将普通的 Python 函数转换成一个 Scikit-Learn 兼容的转换器。它允许我们快速创建简单的自定义数据转换器，并与 Scikit-Learn 的流水线（pipeline）和模型选择功能兼容。FunctionTransformer 的主要作用是将一个已有的函数包装成转换器，避免编写自定义的类。\n",
    "\n",
    "主要参数\n",
    "- func：这是你想要应用的转换函数。它应该接受一个数组或数据框作为输入，并返回一个转换后的数组或数据框。\n",
    "- inverse_func：指定逆转换函数，用于将数据逆转回来。\n",
    "- validate：是否检查输入数据的有效性，默认值为 True。如果设为 False，可以处理稀疏矩阵等。\n",
    "- kw_args 和 inv_kw_args：可以传入额外的关键字参数分别给 func 和 inverse_func。"
   ],
   "id": "a9cfa6847747a053"
  },
  {
   "metadata": {},
   "cell_type": "markdown",
   "source": [
    "自己定义转换器的需求主要出现在以下几种场景中，尤其是当现有的 Scikit-Learn 转换器无法满足特定的预处理需求时。定义自定义转换器可以提供更高的灵活性，使数据预处理流程更加精确和高效。以下是几种常见的原因：\n",
    "\n",
    "1. 特殊的数据处理需求\n",
    "- 有时数据集中的特征可能需要非常特定的转换或清洗，例如将某个特征处理为特定的分布，或删除数据中不规则的异常值。\n",
    "- 举例来说，可能需要对数据中特殊的格式（如时间戳、文本信息、地理位置等）进行转换。现有的 Scikit-Learn 转换器通常无法直接处理这些格式。\n",
    "\n",
    "2. 多步骤转换流程\n",
    "- 自定义转换器允许将多个步骤合并到一个转换器中，简化流水线流程。例如，如果我们想对数据进行多个连续的转换（如先取对数，再进行标准化），可以定义一个转换器来一步完成这些操作，而不是分别创建多个转换器。\n",
    "- 这样可以确保每次运行时转换步骤一致，并且便于在同一个转换器内修改或扩展预处理步骤。\n",
    "\n",
    "3. 与模型的特定需求匹配\n",
    "- 有些模型对输入数据的格式有特定要求。例如，神经网络可能需要数值归一化到特定范围内，或需要特征的分布接近于正态分布。通过自定义转换器，可以确保数据以符合模型要求的格式输入。\n",
    "- 对于时间序列、空间数据或图数据等特定数据类型，可能需要复杂的转换，而这些转换对模型性能至关重要。\n",
    "\n",
    "4. 可调超参数（适应数据）\n",
    "- 自定义转换器可以带有超参数，例如，设置不同的缩放因子、分段阈值或其他处理参数，以适应不同的数据分布。这些超参数可以通过 Scikit-Learn 的 GridSearchCV 等工具进行自动优化。\n",
    "- 例如，在自定义标准化中，可以灵活设置不同的缩放和偏移参数，使转换器更好地适应数据的统计特性。\n",
    "\n",
    "5. 与 Scikit-Learn 的流水线和自动化流程兼容\n",
    "- 自定义转换器可以无缝集成到 Scikit-Learn 的 Pipeline 中，实现数据预处理的自动化和标准化。通过创建自定义转换器，可以让复杂的预处理流程变得自动化、结构化，并且可以复用，特别适合大规模或频繁更新的数据处理任务。\n",
    "- 自定义转换器支持与流水线的深度集成，使得模型的训练、验证和预测流程更加灵活可靠。"
   ],
   "id": "f6b85210bfb59e7d"
  },
  {
   "metadata": {},
   "cell_type": "markdown",
   "source": "",
   "id": "89463443931a34ce"
  }
 ],
 "metadata": {
  "kernelspec": {
   "display_name": "Python 3",
   "language": "python",
   "name": "python3"
  },
  "language_info": {
   "codemirror_mode": {
    "name": "ipython",
    "version": 2
   },
   "file_extension": ".py",
   "mimetype": "text/x-python",
   "name": "python",
   "nbconvert_exporter": "python",
   "pygments_lexer": "ipython2",
   "version": "2.7.6"
  }
 },
 "nbformat": 4,
 "nbformat_minor": 5
}
